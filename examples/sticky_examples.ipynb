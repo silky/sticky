{
 "cells": [
  {
   "cell_type": "code",
   "execution_count": 1,
   "metadata": {
    "collapsed": false
   },
   "outputs": [
    {
     "name": "stderr",
     "output_type": "stream",
     "text": [
      ":0: FutureWarning: IPython widgets are experimental and may change in the future.\n"
     ]
    }
   ],
   "source": [
    "import sticky\n",
    "import pandas as pd\n",
    "from IPython.core.display import display, Javascript, HTML\n",
    "from IPython.html.widgets import interact\n"
   ]
  },
  {
   "cell_type": "code",
   "execution_count": 2,
   "metadata": {
    "collapsed": false
   },
   "outputs": [
    {
     "data": {
      "text/html": [
       "<script>\n",
       "\n",
       " function load_sticky_libs(){\n",
       "    console.log('Loading Sticky libraries...')\n",
       "    libs = {\n",
       "      'micropolar': 'http://wrobstory.github.io/micropolar/micropolar.js'\n",
       "    }\n",
       "    lib_names = Object.keys(libs)\n",
       "    for (var i=0; i < lib_names.length; i++){\n",
       "      lib_name = lib_names[i];\n",
       "      if (window[lib_name] === undefined){\n",
       "        function getscript(lib_name){\n",
       "          $.getScript(libs[lib_name], function(){\n",
       "            console.log(lib_name + \" loaded...\")\n",
       "        })};\n",
       "        getscript(lib_name)\n",
       "      }\n",
       "    }\n",
       "  };\n",
       "\n",
       " if(typeof define === \"function\" && define.amd){\n",
       "      var load_paths = {\n",
       "        paths: {\n",
       "          d3: '//d3js.org/d3.v3.min',\n",
       "          c3: '//cdnjs.cloudflare.com/ajax/libs/c3/0.4.9/c3.min'\n",
       "        }\n",
       "      };\n",
       "      var libs = ['d3', 'c3'];\n",
       "      for (var i=0; i < libs.length; i++){\n",
       "        lib = libs[i]\n",
       "        if (window[lib] !== undefined){\n",
       "          delete load_paths.paths[lib]\n",
       "        };\n",
       "      };\n",
       "      if (Object.keys(load_paths.paths).length != 0){\n",
       "        require.config(load_paths);\n",
       "        require([\"d3\"], function(d3){\n",
       "            console.log('D3 Loaded...')\n",
       "            window.d3 = d3;\n",
       "            load_sticky_libs();\n",
       "        });\n",
       "      } else {\n",
       "          load_sticky_libs();\n",
       "      };\n",
       "\n",
       " } else {\n",
       "      console.log('Require.js not found!');\n",
       "      throw \"Require.js not found!\"\n",
       " };\n",
       "\n",
       "</script>"
      ],
      "text/plain": [
       "<IPython.core.display.HTML object>"
      ]
     },
     "metadata": {},
     "output_type": "display_data"
    },
    {
     "data": {
      "text/html": [
       "<link rel=\"stylesheet\" href=\"http://alexandersimoes.github.io/d3plus/css/d3plus.css\" />"
      ],
      "text/plain": [
       "<IPython.core.display.HTML object>"
      ]
     },
     "metadata": {},
     "output_type": "display_data"
    }
   ],
   "source": [
    "sticky.initialize_notebook()"
   ]
  },
  {
   "cell_type": "code",
   "execution_count": 6,
   "metadata": {
    "collapsed": false
   },
   "outputs": [],
   "source": [
    "foo = sticky.C3()\n"
   ]
  },
  {
   "cell_type": "code",
   "execution_count": 7,
   "metadata": {
    "collapsed": false
   },
   "outputs": [
    {
     "data": {
      "text/html": [
       "<link href=\"http://wrobstory.github.io/c3/c3.min.css\" rel=\"stylesheet\" type=\"text/css\">"
      ],
      "text/plain": [
       "<IPython.core.display.HTML object>"
      ]
     },
     "metadata": {},
     "output_type": "display_data"
    }
   ],
   "source": [
    "display(HTML(\"\"\"<link href=\"http://wrobstory.github.io/c3/c3.min.css\" rel=\"stylesheet\" type=\"text/css\">\"\"\"))"
   ]
  },
  {
   "cell_type": "code",
   "execution_count": 8,
   "metadata": {
    "collapsed": false
   },
   "outputs": [
    {
     "data": {
      "application/javascript": [
       "require([\"widgets/js/widget\", \"widgets/js/manager\"], function(widget, manager){\n",
       "\n",
       "    // Define the DOM Creation view for Sticky charts\n",
       "    var StickyDOMWidget = widget.DOMWidgetView.extend({\n",
       "        render: function(){\n",
       "            var chart_id = this.model.get('chart_id');\n",
       "            var chart_elm = '<div id=\"' + chart_id + '\"></div>';\n",
       "            $(chart_elm).appendTo(this.$el);\n",
       "        },\n",
       "    });\n",
       "    // Register the DOM Renderer with the Widget Manager\n",
       "    manager.WidgetManager.register_widget_view('StickyDOMWidget', StickyDOMWidget);\n",
       "});"
      ],
      "text/plain": [
       "<IPython.core.display.Javascript object>"
      ]
     },
     "metadata": {},
     "output_type": "display_data"
    },
    {
     "data": {
      "application/javascript": [
       "//C3 Library Renderer\n",
       "\n",
       "require([\"widgets/js/widget\", \"widgets/js/manager\", \"c3\"], function(widget, manager, c3){\n",
       "\n",
       "    function get_chart_spec(model){\n",
       "      debugger\n",
       "      var chart_id = '#' + model.get('chart_id');\n",
       "      var spec = {\n",
       "          bindto: chart_id,\n",
       "          size: {\n",
       "            width: 800,\n",
       "            height: 500\n",
       "          },\n",
       "          data: {\n",
       "              columns: [\n",
       "                  ['data1', 30, 200, 100, 400, 150, 250],\n",
       "                  ['data2', 50, 20, 10, 40, 15, 25]\n",
       "              ]\n",
       "          }\n",
       "      };\n",
       "      return spec;\n",
       "    }\n",
       "    // Define the DOM Rendering View\n",
       "    var C3Renderer = widget.DOMWidgetView.extend({\n",
       "        render: function(){\n",
       "          // Get chart spec\n",
       "          debugger\n",
       "          var chart_spec = get_chart_spec(this.model);\n",
       "          // Instantiate c3 chart\n",
       "          this.$c3_chart = c3.generate(chart_spec);\n",
       "        },\n",
       "        update: function(){\n",
       "          var chart_spec = get_chart_spec(this.model);\n",
       "          this.$c3_chart.load(chart_spec);\n",
       "        }\n",
       "    });\n",
       "    // Register the DOM Rendering View\n",
       "    manager.WidgetManager.register_widget_view('C3', C3Renderer);\n",
       "});"
      ],
      "text/plain": [
       "<IPython.core.display.Javascript object>"
      ]
     },
     "metadata": {},
     "output_type": "display_data"
    }
   ],
   "source": [
    "foo.plot()"
   ]
  },
  {
   "cell_type": "code",
   "execution_count": null,
   "metadata": {
    "collapsed": true
   },
   "outputs": [],
   "source": []
  }
 ],
 "metadata": {
  "language_info": {
   "codemirror_mode": {
    "name": "ipython",
    "version": 2
   },
   "file_extension": ".py",
   "mimetype": "text/x-python",
   "name": "python",
   "nbconvert_exporter": "python",
   "pygments_lexer": "ipython2",
   "version": "2.7.8"
  }
 },
 "nbformat": 4,
 "nbformat_minor": 0
}
